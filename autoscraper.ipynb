{
 "cells": [
  {
   "cell_type": "code",
   "execution_count": 10,
   "metadata": {},
   "outputs": [
    {
     "name": "stdout",
     "output_type": "stream",
     "text": [
      "Requirement already satisfied: autoscraper in /usr/lib/python3.8/site-packages (1.1.12)\n",
      "Requirement already satisfied: bs4 in /usr/lib/python3.8/site-packages (from autoscraper) (0.0.1)\n",
      "Requirement already satisfied: lxml in /usr/lib/python3.8/site-packages (from autoscraper) (4.6.4)\n",
      "Requirement already satisfied: requests in /usr/lib/python3.8/site-packages (from autoscraper) (2.26.0)\n",
      "Requirement already satisfied: beautifulsoup4 in /usr/lib/python3.8/site-packages (from bs4->autoscraper) (4.10.0)\n",
      "Requirement already satisfied: idna<4,>=2.5 in /usr/lib/python3.8/site-packages (from requests->autoscraper) (3.3)\n",
      "Requirement already satisfied: certifi>=2017.4.17 in /usr/lib/python3.8/site-packages (from requests->autoscraper) (2021.10.8)\n",
      "Requirement already satisfied: urllib3<1.27,>=1.21.1 in /usr/lib/python3.8/site-packages (from requests->autoscraper) (1.26.7)\n",
      "Requirement already satisfied: charset-normalizer~=2.0.0 in /usr/lib/python3.8/site-packages (from requests->autoscraper) (2.0.8)\n",
      "Requirement already satisfied: soupsieve>1.2 in /usr/lib/python3.8/site-packages (from beautifulsoup4->bs4->autoscraper) (2.3.1)\n",
      "\u001b[33mWARNING: Running pip as the 'root' user can result in broken permissions and conflicting behaviour with the system package manager. It is recommended to use a virtual environment instead: https://pip.pypa.io/warnings/venv\u001b[0m\n"
     ]
    }
   ],
   "source": [
    "!pip install autoscraper"
   ]
  },
  {
   "cell_type": "code",
   "execution_count": 61,
   "metadata": {
    "scrolled": true
   },
   "outputs": [
    {
     "name": "stdout",
     "output_type": "stream",
     "text": [
      "['docker-jupyter', 'sweep', 'vagrant-testbed', 'Cheatsheet-God', 'hands_on_linux-self_hosted_wordpress_for_linux_beginners', 'awesome-web-scraping', 'the-art-of-command-line', 'awesome-oneliner-bugbounty', 'node-js-template', 'pwk-cheatsheet']\n"
     ]
    }
   ],
   "source": [
    "from autoscraper import AutoScraper # scrape entire page using wanted-list\n",
    "\n",
    "github_url = 'https://github.com/erickills?tab=repositories'\n",
    "wanted_list = [\"vagrant-testbed\"] # could be title, number etc. specifically and must be UNIQUE!\n",
    "\n",
    "scraper = AutoScraper()\n",
    "result = scraper.build(github_url, wanted_list)\n",
    "\n",
    "print(result)\n",
    "\n"
   ]
  },
  {
   "cell_type": "code",
   "execution_count": 62,
   "metadata": {},
   "outputs": [
    {
     "data": {
      "text/plain": [
       "{'rule_uww9': ['docker-jupyter',\n",
       "  'sweep',\n",
       "  'vagrant-testbed',\n",
       "  'Cheatsheet-God',\n",
       "  'hands_on_linux-self_hosted_wordpress_for_linux_beginners',\n",
       "  'awesome-web-scraping',\n",
       "  'the-art-of-command-line',\n",
       "  'awesome-oneliner-bugbounty',\n",
       "  'node-js-template',\n",
       "  'pwk-cheatsheet']}"
      ]
     },
     "execution_count": 62,
     "metadata": {},
     "output_type": "execute_result"
    }
   ],
   "source": [
    "scraper.get_result_similar(github_url,grouped=True) # group results in erickills repo's titles"
   ]
  },
  {
   "cell_type": "code",
   "execution_count": 71,
   "metadata": {},
   "outputs": [],
   "source": [
    "scraper.set_rule_aliases({'rule_uww9':'Title'}) # add/change the rule id base on the grouped-results every time you run it\n",
    "scraper.keep_rules(['rule_uww9'])\n",
    "scraper.save('Repo-Title')"
   ]
  },
  {
   "cell_type": "code",
   "execution_count": 72,
   "metadata": {},
   "outputs": [],
   "source": [
    "# this need to compare 2 urls \n",
    "\n",
    "results=scraper.get_result_similar('https://github.com/kubowania?tab=repositories',group_by_alias=True) \n"
   ]
  },
  {
   "cell_type": "code",
   "execution_count": 73,
   "metadata": {},
   "outputs": [
    {
     "data": {
      "text/plain": [
       "['stargate-tik-tok',\n",
       " 'candy-crush-reactjs',\n",
       " 'candy-crush-reactjs-with-game-state',\n",
       " 'whack-a-mole-react-native',\n",
       " 'Nokia3310-Snake',\n",
       " 'climate-change-live-api',\n",
       " 'nodejs-webscraper',\n",
       " 'burger-api',\n",
       " 'Advanced-React-and-Redux-2019',\n",
       " 'portfolio-website',\n",
       " 'Predictive-Text-Search-Bar',\n",
       " 'Project-04',\n",
       " 'disney-clone-graphcms',\n",
       " 'moving-wave-portfolio',\n",
       " 'mario',\n",
       " 'zelda',\n",
       " 'graphQL-federation-crypto',\n",
       " 'light-dark-mode-portfolio',\n",
       " 'burger-app',\n",
       " 'hotel-app',\n",
       " 'video-app-frontend',\n",
       " 'video-app-backend',\n",
       " 'Tetris-Basic',\n",
       " 'memory-game',\n",
       " 'netflix-clone-graphql-datastax',\n",
       " 'Tetris',\n",
       " 'portfolio-with-animations',\n",
       " 'pac-man',\n",
       " 'battleships',\n",
       " 'rock-paper-scissors-react']"
      ]
     },
     "execution_count": 73,
     "metadata": {},
     "output_type": "execute_result"
    }
   ],
   "source": [
    "results['Title'] # group results for kubowania repo's title"
   ]
  },
  {
   "cell_type": "code",
   "execution_count": null,
   "metadata": {},
   "outputs": [],
   "source": []
  }
 ],
 "metadata": {
  "kernelspec": {
   "display_name": "Python 3",
   "language": "python",
   "name": "python3"
  },
  "language_info": {
   "codemirror_mode": {
    "name": "ipython",
    "version": 3
   },
   "file_extension": ".py",
   "mimetype": "text/x-python",
   "name": "python",
   "nbconvert_exporter": "python",
   "pygments_lexer": "ipython3",
   "version": "3.8.10"
  }
 },
 "nbformat": 4,
 "nbformat_minor": 4
}
